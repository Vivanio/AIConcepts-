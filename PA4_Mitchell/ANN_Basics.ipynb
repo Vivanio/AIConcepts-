{
 "cells": [
  {
   "cell_type": "markdown",
   "metadata": {
    "id": "WKXf2ICXCdoY"
   },
   "source": [
    "## 1 - Packages ##\n",
    "- [Tensorflow](https://www.tensorflow.org/) is the one of the most famouse deep learning platforms\n",
    "- [numpy](www.numpy.org) is the fundamental package for scientific computing with Python.\n",
    "- [pandas](pandas.pydata.org/) is an important package for Python data analysis.\n",
    "- [matplotlib](http://matplotlib.org) is a famous library to plot graphs in Python.\n",
    "- plot: plot_decision_boundary is a utility function for plotting the decision boundary"
   ]
  },
  {
   "cell_type": "code",
   "execution_count": null,
   "metadata": {
    "id": "OQBxvkLYCZ_H"
   },
   "outputs": [],
   "source": [
    "import numpy as np\n",
    "import pandas as pd\n",
    "import matplotlib.pyplot as plt\n",
    "import tensorflow as tf\n",
    "from tensorflow import keras\n",
    "from tensorflow.keras import layers\n",
    "\n",
    "from plot import plot_decision_boundary"
   ]
  },
  {
   "cell_type": "markdown",
   "metadata": {
    "id": "BRdyeG2zDV9n"
   },
   "source": [
    "## 2 - Load Data ##\n",
    "- [np.loadtxt](https://numpy.org/doc/stable/reference/generated/numpy.loadtxt.html): Please use numpy's loadtxt to load training data from \"data.txt\" file. Hint: pay attention to \"delimiter\" parameter"
   ]
  },
  {
   "cell_type": "code",
   "execution_count": null,
   "metadata": {
    "colab": {
     "base_uri": "https://localhost:8080/",
     "height": 283
    },
    "id": "UVjDy9PXDNMh",
    "outputId": "6a99674a-4e27-45d6-f0f1-43c9970b25bb"
   },
   "outputs": [],
   "source": [
    "### Your Code Starts Here ###\n",
    "data = np.loadtxt(, )\n",
    "### Your Code Ends Here ###\n",
    "\n",
    "X = data[:, :-1]\n",
    "Y = data[:, -1]\n",
    "plt.scatter(X.T[0, :], X.T[1, :], c=Y,s=40, cmap=plt.cm.Spectral)"
   ]
  },
  {
   "cell_type": "markdown",
   "metadata": {
    "id": "84slZEBGEQYu"
   },
   "source": [
    "## 3 - Create the ANN Model ##\n",
    "We will create a two-layer ANN"
   ]
  },
  {
   "cell_type": "markdown",
   "metadata": {},
   "source": [
    "### 3.1 - Hidden Layer ###\n",
    "- Define the number of hidden units\n",
    "- Define the activation function to be 'relu'\n",
    "- [Dense Layer](https://www.tensorflow.org/api_docs/python/tf/keras/layers/Dense): activation function is \"relu\" and input_shape is the number of features\n",
    "- Your code should be something like model.add(layers.Dense(num_hidden_units, activation= ??? , input_shape=[?]))"
   ]
  },
  {
   "cell_type": "code",
   "execution_count": null,
   "metadata": {
    "colab": {
     "base_uri": "https://localhost:8080/"
    },
    "id": "aUU5EU5IDfvr",
    "outputId": "acdc5a27-fc77-437d-9f3b-fd33fec886da"
   },
   "outputs": [],
   "source": [
    "num_hidden_units = 6\n",
    "model = keras.Sequential()\n",
    "\n",
    "### Your Code Starts Here ###\n",
    "# 1. sepcify the number of features in the training set\n",
    "# 2. specify the activation function, i.e., relu\n",
    "num_of_features = \n",
    "model.add(layers.Dense(, , ))\n",
    "### Your Code Ends Here ###"
   ]
  },
  {
   "cell_type": "markdown",
   "metadata": {},
   "source": [
    "### 3.2 - Output Layer ###\n",
    "- Define the activation function to be 'sigmoid'"
   ]
  },
  {
   "cell_type": "code",
   "execution_count": null,
   "metadata": {},
   "outputs": [],
   "source": [
    "### Your Code Starts Here ###\n",
    "model.add(layers.Dense(1, activation=''))\n",
    "### Your Code Ends Here ###"
   ]
  },
  {
   "cell_type": "markdown",
   "metadata": {},
   "source": [
    "### 3.3 - Train the Model ###"
   ]
  },
  {
   "cell_type": "code",
   "execution_count": null,
   "metadata": {},
   "outputs": [],
   "source": [
    "num_of_epochs = 1000\n",
    "model.compile(optimizer='adam', loss=keras.losses.binary_crossentropy, metrics=['accuracy'])\n",
    "\n",
    "### Your Code Starts Here ###\n",
    "model.fit(x = , y = , verbose=True, epochs= num_of_epochs)\n",
    "### Your Code Ends Here ###"
   ]
  },
  {
   "cell_type": "markdown",
   "metadata": {},
   "source": [
    "### 3.4 -  Print Loss ###"
   ]
  },
  {
   "cell_type": "code",
   "execution_count": null,
   "metadata": {},
   "outputs": [],
   "source": [
    "losses = pd.DataFrame(model.history.history)\n",
    "losses[['loss']].plot()"
   ]
  },
  {
   "cell_type": "markdown",
   "metadata": {},
   "source": [
    "## 4 - Plot Decision Boundary ##"
   ]
  },
  {
   "cell_type": "code",
   "execution_count": null,
   "metadata": {
    "colab": {
     "base_uri": "https://localhost:8080/",
     "height": 313
    },
    "id": "CFXFJBzAGdjw",
    "outputId": "d7501856-74b0-4574-da26-b6975ba5dc8b"
   },
   "outputs": [],
   "source": [
    "# Plot the decision boundary\n",
    "plot_decision_boundary(lambda x: model.predict(x), X.T, Y.T)\n",
    "plt.title(\"Decision Boundary for hidden layer size \" + str(num_hidden_units))"
   ]
  },
  {
   "cell_type": "code",
   "execution_count": null,
   "metadata": {
    "id": "6t4VveECG2tV"
   },
   "outputs": [],
   "source": []
  }
 ],
 "metadata": {
  "colab": {
   "name": "ANN_Basics.ipynb",
   "provenance": []
  },
  "kernelspec": {
   "display_name": "Python 3 (ipykernel)",
   "language": "python",
   "name": "python3"
  },
  "language_info": {
   "codemirror_mode": {
    "name": "ipython",
    "version": 3
   },
   "file_extension": ".py",
   "mimetype": "text/x-python",
   "name": "python",
   "nbconvert_exporter": "python",
   "pygments_lexer": "ipython3",
   "version": "3.9.6"
  }
 },
 "nbformat": 4,
 "nbformat_minor": 4
}
